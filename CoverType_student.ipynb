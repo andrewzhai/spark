{
  "nbformat": 4,
  "nbformat_minor": 0,
  "metadata": {
    "colab": {
      "name": "CoverType_student.ipynb",
      "provenance": [],
      "collapsed_sections": [],
      "authorship_tag": "ABX9TyMaThn7g0jtLEv1hj63pDqH",
      "include_colab_link": true
    },
    "kernelspec": {
      "name": "python3",
      "display_name": "Python 3"
    }
  },
  "cells": [
    {
      "cell_type": "markdown",
      "metadata": {
        "id": "view-in-github",
        "colab_type": "text"
      },
      "source": [
        "<a href=\"https://colab.research.google.com/github/gzc/spark/blob/main/CoverType_student.ipynb\" target=\"_parent\"><img src=\"https://colab.research.google.com/assets/colab-badge.svg\" alt=\"Open In Colab\"/></a>"
      ]
    },
    {
      "cell_type": "code",
      "metadata": {
        "id": "viSgkOXyRRYK"
      },
      "source": [
        "!apt-get install openjdk-8-jdk-headless -qq > /dev/null\n",
        "!wget -q https://www-us.apache.org/dist/spark/spark-2.4.7/spark-2.4.7-bin-hadoop2.7.tgz  \n",
        "!tar xf /content/spark-2.4.7-bin-hadoop2.7.tgz\n",
        "!pip install -q findspark"
      ],
      "execution_count": null,
      "outputs": []
    },
    {
      "cell_type": "code",
      "metadata": {
        "id": "CfgdQ6_YSPAl"
      },
      "source": [
        "import os\n",
        "os.environ[\"JAVA_HOME\"] = \"/usr/lib/jvm/java-8-openjdk-amd64\"\n",
        "os.environ[\"SPARK_HOME\"] = \"/content/spark-2.4.7-bin-hadoop2.7\""
      ],
      "execution_count": null,
      "outputs": []
    },
    {
      "cell_type": "code",
      "metadata": {
        "id": "b8fIRvM8SRWw"
      },
      "source": [
        "import findspark\n",
        "findspark.init()\n",
        "from pyspark.mllib.linalg import Vectors\n",
        "from pyspark.mllib.regression import LabeledPoint\n",
        "\n",
        "from pyspark.mllib.tree import GradientBoostedTrees, GradientBoostedTreesModel, RandomForest\n",
        "from pyspark.mllib.util import MLUtils"
      ],
      "execution_count": null,
      "outputs": []
    },
    {
      "cell_type": "markdown",
      "metadata": {
        "id": "L_lRLA27TGsW"
      },
      "source": [
        "# Cover Type\n",
        "Classify geographical locations according to their predicted tree cover:\n",
        "\n",
        "* URL: [http://archive.ics.uci.edu/ml/datasets/Covertype](http://archive.ics.uci.edu/ml/datasets/Covertype)\n",
        "* Abstract: Forest CoverType dataset\n",
        "* Data Set Description: [http://archive.ics.uci.edu/ml/machine-learning-databases/covtype/covtype.info](http://archive.ics.uci.edu/ml/machine-learning-databases/covtype/covtype.info)"
      ]
    },
    {
      "cell_type": "code",
      "metadata": {
        "colab": {
          "base_uri": "https://localhost:8080/"
        },
        "id": "PzbzuTv5auUE",
        "outputId": "7df8efb9-76b9-4205-df9b-18aaf6efd4bf"
      },
      "source": [
        "#define a dictionary of cover types\n",
        "CoverTypes={1.0: 'Spruce/Fir',\n",
        "            2.0: 'Lodgepole Pine',\n",
        "            3.0: 'Ponderosa Pine',\n",
        "            4.0: 'Cottonwood/Willow',\n",
        "            5.0: 'Aspen',\n",
        "            6.0: 'Douglas-fir',\n",
        "            7.0: 'Krummholz' }\n",
        "print ('Tree Cover Types:')\n",
        "CoverTypes"
      ],
      "execution_count": null,
      "outputs": [
        {
          "output_type": "stream",
          "text": [
            "Tree Cover Types:\n"
          ],
          "name": "stdout"
        },
        {
          "output_type": "execute_result",
          "data": {
            "text/plain": [
              "{1.0: 'Spruce/Fir',\n",
              " 2.0: 'Lodgepole Pine',\n",
              " 3.0: 'Ponderosa Pine',\n",
              " 4.0: 'Cottonwood/Willow',\n",
              " 5.0: 'Aspen',\n",
              " 6.0: 'Douglas-fir',\n",
              " 7.0: 'Krummholz'}"
            ]
          },
          "metadata": {
            "tags": []
          },
          "execution_count": 8
        }
      ]
    },
    {
      "cell_type": "code",
      "metadata": {
        "colab": {
          "base_uri": "https://localhost:8080/"
        },
        "id": "v0tL9bSxazPz",
        "outputId": "a0ad1132-7ca3-425a-c28b-a3ada985bf2d"
      },
      "source": [
        "# creating a directory called covtype, download and decompress covtype.data.gz into it\n",
        "\n",
        "from os.path import exists\n",
        "if not exists('covtype'):\n",
        "    print (\"creating directory covtype\")\n",
        "    !mkdir covtype\n",
        "%cd covtype\n",
        "if not exists('covtype.data'):\n",
        "    if not exists('covtype.data.gz'):\n",
        "        print ('downloading covtype.data.gz')\n",
        "        !curl -O http://archive.ics.uci.edu/ml/machine-learning-databases/covtype/covtype.data.gz\n",
        "    print ('decompressing covtype.data.gz')\n",
        "    !gunzip -f covtype.data.gz\n",
        "!ls -l\n",
        "%cd .."
      ],
      "execution_count": null,
      "outputs": [
        {
          "output_type": "stream",
          "text": [
            "creating directory covtype\n",
            "/content/covtype\n",
            "downloading covtype.data.gz\n",
            "  % Total    % Received % Xferd  Average Speed   Time    Time     Time  Current\n",
            "                                 Dload  Upload   Total   Spent    Left  Speed\n",
            "100 10.7M  100 10.7M    0     0  23.5M      0 --:--:-- --:--:-- --:--:-- 23.5M\n",
            "decompressing covtype.data.gz\n",
            "total 73408\n",
            "-rw-r--r-- 1 root root 75169317 Nov 28 05:55 covtype.data\n",
            "/content\n"
          ],
          "name": "stdout"
        }
      ]
    },
    {
      "cell_type": "code",
      "metadata": {
        "id": "gcFIvbD3a9XO"
      },
      "source": [
        "# Define the feature names\n",
        "cols_txt=\"\"\"\n",
        "Elevation, Aspect, Slope, Horizontal_Distance_To_Hydrology,\n",
        "Vertical_Distance_To_Hydrology, Horizontal_Distance_To_Roadways,\n",
        "Hillshade_9am, Hillshade_Noon, Hillshade_3pm,\n",
        "Horizontal_Distance_To_Fire_Points, Wilderness_Area (4 binarycolumns), \n",
        "Soil_Type (40 binary columns), Cover_Type\n",
        "\"\"\""
      ],
      "execution_count": null,
      "outputs": []
    },
    {
      "cell_type": "code",
      "metadata": {
        "colab": {
          "base_uri": "https://localhost:8080/"
        },
        "id": "_Vg6sGv2a_pm",
        "outputId": "72359adf-010b-4007-a96e-112ac02aed4d"
      },
      "source": [
        "# Break up features that are made out of several binary features.\n",
        "# from string import split,strip\n",
        "cols=[a.strip() for a in cols_txt.split(',')]\n",
        "colDict={a:[a] for a in cols}\n",
        "colDict['Soil_Type (40 binary columns)'] = ['ST_'+str(i) for i in range(40)]\n",
        "colDict['Wilderness_Area (4 binarycolumns)'] = ['WA_'+str(i) for i in range(4)]\n",
        "Columns=[]\n",
        "for item in cols:\n",
        "    Columns=Columns+colDict[item]\n",
        "print (Columns)"
      ],
      "execution_count": null,
      "outputs": [
        {
          "output_type": "stream",
          "text": [
            "['Elevation', 'Aspect', 'Slope', 'Horizontal_Distance_To_Hydrology', 'Vertical_Distance_To_Hydrology', 'Horizontal_Distance_To_Roadways', 'Hillshade_9am', 'Hillshade_Noon', 'Hillshade_3pm', 'Horizontal_Distance_To_Fire_Points', 'WA_0', 'WA_1', 'WA_2', 'WA_3', 'ST_0', 'ST_1', 'ST_2', 'ST_3', 'ST_4', 'ST_5', 'ST_6', 'ST_7', 'ST_8', 'ST_9', 'ST_10', 'ST_11', 'ST_12', 'ST_13', 'ST_14', 'ST_15', 'ST_16', 'ST_17', 'ST_18', 'ST_19', 'ST_20', 'ST_21', 'ST_22', 'ST_23', 'ST_24', 'ST_25', 'ST_26', 'ST_27', 'ST_28', 'ST_29', 'ST_30', 'ST_31', 'ST_32', 'ST_33', 'ST_34', 'ST_35', 'ST_36', 'ST_37', 'ST_38', 'ST_39', 'Cover_Type']\n"
          ],
          "name": "stdout"
        }
      ]
    },
    {
      "cell_type": "code",
      "metadata": {
        "colab": {
          "base_uri": "https://localhost:8080/"
        },
        "id": "9NR6njvLbajS",
        "outputId": "041aa0b7-1a83-4e50-bfe5-ac4ebc6bf532"
      },
      "source": [
        "# Have a look at the first two lines of the data file\n",
        "!head -2 covtype/covtype.data"
      ],
      "execution_count": null,
      "outputs": [
        {
          "output_type": "stream",
          "text": [
            "2596,51,3,258,0,510,221,232,148,6279,1,0,0,0,0,0,0,0,0,0,0,0,0,0,0,0,0,0,0,0,0,0,0,0,0,0,0,0,0,0,0,0,1,0,0,0,0,0,0,0,0,0,0,0,5\n",
            "2590,56,2,212,-6,390,220,235,151,6225,1,0,0,0,0,0,0,0,0,0,0,0,0,0,0,0,0,0,0,0,0,0,0,0,0,0,0,0,0,0,0,0,1,0,0,0,0,0,0,0,0,0,0,0,5\n"
          ],
          "name": "stdout"
        }
      ]
    },
    {
      "cell_type": "code",
      "metadata": {
        "colab": {
          "base_uri": "https://localhost:8080/",
          "height": 37
        },
        "id": "foC-yUKIbdmJ",
        "outputId": "0655781b-f974-4d7b-8ca8-54deac06cca1"
      },
      "source": [
        "# Read the file into an RDD\n",
        "# If doing this on a real cluster, you need the file to be available on all nodes, ideally in HDFS.\n",
        "path='covtype/covtype.data'\n",
        "from pyspark import SparkContext\n",
        "sc = SparkContext()\n",
        "inputRDD=sc.textFile(path)\n",
        "inputRDD.first()"
      ],
      "execution_count": null,
      "outputs": [
        {
          "output_type": "execute_result",
          "data": {
            "application/vnd.google.colaboratory.intrinsic+json": {
              "type": "string"
            },
            "text/plain": [
              "'2596,51,3,258,0,510,221,232,148,6279,1,0,0,0,0,0,0,0,0,0,0,0,0,0,0,0,0,0,0,0,0,0,0,0,0,0,0,0,0,0,0,0,1,0,0,0,0,0,0,0,0,0,0,0,5'"
            ]
          },
          "metadata": {
            "tags": []
          },
          "execution_count": 21
        }
      ]
    },
    {
      "cell_type": "code",
      "metadata": {
        "colab": {
          "base_uri": "https://localhost:8080/"
        },
        "id": "WdMkXWlSblpd",
        "outputId": "cdb2f51e-58f9-4b04-a58f-f02114450ccd"
      },
      "source": [
        "# Transform the text RDD into an RDD of LabeledPoints\n",
        "Data=inputRDD.map(lambda line: [float(x.strip()) for x in line.split(',')])\\\n",
        "     .map(lambda alist: LabeledPoint(alist[-1], alist[:-1]))\n",
        "Data.first()"
      ],
      "execution_count": null,
      "outputs": [
        {
          "output_type": "execute_result",
          "data": {
            "text/plain": [
              "LabeledPoint(5.0, [2596.0,51.0,3.0,258.0,0.0,510.0,221.0,232.0,148.0,6279.0,1.0,0.0,0.0,0.0,0.0,0.0,0.0,0.0,0.0,0.0,0.0,0.0,0.0,0.0,0.0,0.0,0.0,0.0,0.0,0.0,0.0,0.0,0.0,0.0,0.0,0.0,0.0,0.0,0.0,0.0,0.0,0.0,1.0,0.0,0.0,0.0,0.0,0.0,0.0,0.0,0.0,0.0,0.0,0.0])"
            ]
          },
          "metadata": {
            "tags": []
          },
          "execution_count": 24
        }
      ]
    },
    {
      "cell_type": "code",
      "metadata": {
        "colab": {
          "base_uri": "https://localhost:8080/"
        },
        "id": "uruoNdn8bzRj",
        "outputId": "d3d35b14-64e6-4077-f27f-8660061aa0fc"
      },
      "source": [
        "# count the number of examples of each type\n",
        "total=Data.cache().count()\n",
        "print ('total data size=',total)\n",
        "counts=Data.map(lambda x: (x.label, 1))\\\n",
        "        .reduceByKey(lambda x,y: x+y)\\\n",
        "        .collect()\n",
        "\n",
        "counts.sort(key=lambda x:x[1],reverse=True)\n",
        "print ('              type (label):   percent of total')\n",
        "print ('---------------------------------------------------------')\n",
        "print ('\\n'.join(['%20s (%3.1f):\\t%4.2f'%(CoverTypes[a[0]],a[0],100.0*a[1]/float(total)) for a in counts]))"
      ],
      "execution_count": null,
      "outputs": [
        {
          "output_type": "stream",
          "text": [
            "total data size= 581012\n",
            "              type (label):   percent of total\n",
            "---------------------------------------------------------\n",
            "      Lodgepole Pine (2.0):\t48.76\n",
            "          Spruce/Fir (1.0):\t36.46\n",
            "      Ponderosa Pine (3.0):\t6.15\n",
            "           Krummholz (7.0):\t3.53\n",
            "         Douglas-fir (6.0):\t2.99\n",
            "               Aspen (5.0):\t1.63\n",
            "   Cottonwood/Willow (4.0):\t0.47\n"
          ],
          "name": "stdout"
        }
      ]
    },
    {
      "cell_type": "markdown",
      "metadata": {
        "id": "e2oR7F1UcD4f"
      },
      "source": [
        "# Making the problem binary\n",
        "\n",
        "The implementation of BoostedGradientTrees in MLLib supports only binary problems. the CovTYpe problem has 7 classes. To make the problem binary we choose the Lodgepole Pine (label = 2.0). We therefor transform the dataset to a new dataset where the label is 1.0 is the class is Lodgepole Pine and is 0.0 otherwise."
      ]
    },
    {
      "cell_type": "code",
      "metadata": {
        "id": "RN7dyIN3cJUh"
      },
      "source": [
        "Label=2.0\n",
        "Data=#Implement your code here"
      ],
      "execution_count": null,
      "outputs": []
    },
    {
      "cell_type": "markdown",
      "metadata": {
        "id": "oEK90O4DcL6_"
      },
      "source": [
        "# Reducing data size\n",
        "In order to see the effects of overfitting more clearly, we reduce the size of the data by a factor of 10"
      ]
    },
    {
      "cell_type": "code",
      "metadata": {
        "colab": {
          "base_uri": "https://localhost:8080/"
        },
        "id": "eVqsHtnBcSpG",
        "outputId": "6a6b9535-fff7-4ca3-d3ab-9abe633de8e4"
      },
      "source": [
        "Data1=Data.sample(False,0.1).cache()\n",
        "(trainingData,testData)=Data1.randomSplit([0.7,0.3])\n",
        "\n",
        "print ('Sizes: Data1=%d, trainingData=%d, testData=%d'%(Data1.count(),trainingData.cache().count(),testData.cache().count()))"
      ],
      "execution_count": null,
      "outputs": [
        {
          "output_type": "stream",
          "text": [
            "Sizes: Data1=58115, trainingData=40706, testData=17409\n"
          ],
          "name": "stdout"
        }
      ]
    },
    {
      "cell_type": "code",
      "metadata": {
        "colab": {
          "base_uri": "https://localhost:8080/"
        },
        "id": "XHElD0Kncc3j",
        "outputId": "8293eeb8-3773-4c91-e6d5-668203c61457"
      },
      "source": [
        "counts=testData.map(lambda lp:(lp.label,1)).reduceByKey(lambda x,y:x+y).collect()\n",
        "counts.sort(key=lambda x:x[1],reverse=True)\n",
        "counts"
      ],
      "execution_count": null,
      "outputs": [
        {
          "output_type": "execute_result",
          "data": {
            "text/plain": [
              "[(0.0, 8985), (1.0, 8424)]"
            ]
          },
          "metadata": {
            "tags": []
          },
          "execution_count": 28
        }
      ]
    },
    {
      "cell_type": "markdown",
      "metadata": {
        "id": "MRFbKLqIcmIl"
      },
      "source": [
        "# Gradient Boosted Trees\n",
        "\n",
        "* Following [this example](http://spark.apache.org/docs/latest/mllib-ensembles.html#gradient-boosted-trees-gbts) from the mllib documentation\n",
        "* [pyspark.mllib.tree.GradientBoostedTrees documentation](http://spark.apache.org/docs/latest/api/python/pyspark.mllib.html#pyspark.mllib.tree.GradientBoostedTrees)\n",
        "\n",
        "##Main classes and methods\n",
        "* GradientBoostedTrees is the class that implements the learning trainClassifier,\n",
        "  * It's main method is trainClassifier(trainingData) which takes as input a training set and generates an instance of GradientBoostedTreesModel\n",
        "  * The main parameter from train Classifier are:\n",
        "    * data – Training dataset: RDD of LabeledPoint. Labels should take values {0, 1}.\n",
        "    * categoricalFeaturesInfo – Map storing arity of categorical features. E.g., an entry (n -> k) indicates that feature n is categorical with k categories indexed from 0: {0, 1, ..., k-1}.\n",
        "    * loss – Loss function used for minimization during gradient boosting. Supported: {“logLoss” (default), “leastSquaresError”, “leastAbsoluteError”}.\n",
        "    * numIterations – Number of iterations of boosting. (default: 100)\n",
        "    * learningRate – Learning rate for shrinking the contribution of each estimator. The learning rate should be between in the interval (0, 1]. (default: 0.1)\n",
        "    * maxDepth – Maximum depth of the tree. E.g., depth 0 means 1 leaf node; depth 1 means 1 internal node + 2 leaf nodes. (default: 3)\n",
        "    * maxBins – maximum number of bins used for splitting features (default: 32) DecisionTree requires maxBins >= max categories\n",
        "* GradientBoostedTreesModel represents the output of the boosting process: a linear combination of classification trees. The methods supported by this class are:\n",
        "  * save(sc, path) : save the tree to a given filename, sc is the Spark Context.\n",
        "  * load(sc,path) : The counterpart to save - load classifier from file.\n",
        "  * predict(X) : predict on a single datapoint (the .features field of a LabeledPont) or an RDD of datapoints.\n",
        "  * toDebugString() : print the classifier in a human readable format."
      ]
    },
    {
      "cell_type": "code",
      "metadata": {
        "colab": {
          "base_uri": "https://localhost:8080/"
        },
        "id": "WEN1AD-_dYig",
        "outputId": "5eff3859-b6e7-4af8-9ac3-e895c5784b45"
      },
      "source": [
        "from time import time\n",
        "errors={}\n",
        "for depth in [1,3,6,10]:\n",
        "    start=time()\n",
        "    model=GradientBoostedTrees.trainClassifier(trainingData, categoricalFeaturesInfo={}, numIterations=10, maxDepth=depth)\n",
        "    #print model.toDebugString()\n",
        "    errors[depth]={}\n",
        "    dataSets={'train':trainingData,'test':testData}\n",
        "    for name in dataSets.keys():  # Calculate errors on train and test sets\n",
        "        data=dataSets[name]\n",
        "        Predicted=model.predict(data.map(lambda x: x.features))\n",
        "        LabelsAndPredictions=data.map(lambda x: x.label).zip(Predicted)\n",
        "        Err = LabelsAndPredictions.filter(lambda x : x[0] != x[1]).count()/float(data.count())\n",
        "        errors[depth][name]=Err\n",
        "    print (depth,errors[depth],int(time()-start),'seconds')\n",
        "print (errors)"
      ],
      "execution_count": null,
      "outputs": [
        {
          "output_type": "stream",
          "text": [
            "1 {'train': 0.27283447157667173, 'test': 0.27485783215578147} 9 seconds\n",
            "3 {'train': 0.24200363582764212, 'test': 0.24763053592969153} 8 seconds\n",
            "6 {'train': 0.20950228467547782, 'test': 0.22114997989545637} 10 seconds\n",
            "10 {'train': 0.12683633862329877, 'test': 0.16675282899649607} 17 seconds\n",
            "{1: {'train': 0.27283447157667173, 'test': 0.27485783215578147}, 3: {'train': 0.24200363582764212, 'test': 0.24763053592969153}, 6: {'train': 0.20950228467547782, 'test': 0.22114997989545637}, 10: {'train': 0.12683633862329877, 'test': 0.16675282899649607}}\n"
          ],
          "name": "stdout"
        }
      ]
    },
    {
      "cell_type": "code",
      "metadata": {
        "id": "l-dKbtA2fj5M"
      },
      "source": [
        "B10 = errors"
      ],
      "execution_count": null,
      "outputs": []
    },
    {
      "cell_type": "code",
      "metadata": {
        "colab": {
          "base_uri": "https://localhost:8080/",
          "height": 334
        },
        "id": "qZzYMIHmdxPJ",
        "outputId": "04c1cc8c-f050-4861-a629-7e6b0bcbe932"
      },
      "source": [
        "# Plot Train/test accuracy vs Depth of trees graph\n",
        "%pylab inline\n",
        "import matplotlib.pylab as plt\n",
        "\n",
        "lists = sorted(B10.items()) # sorted by key, return a list of tuples\n",
        "x, y = zip(*lists) # unpack a list of pairs into two tuples\n",
        "list1 = []\n",
        "list2 = []\n",
        "for ele in y:\n",
        "  list1.append(ele['train'])\n",
        "  list2.append(ele['test'])\n",
        "\n",
        "plt.plot(x, list1, '-')\n",
        "plt.plot(x, list2, '--')\n",
        "plt.show()"
      ],
      "execution_count": null,
      "outputs": [
        {
          "output_type": "stream",
          "text": [
            "Populating the interactive namespace from numpy and matplotlib\n"
          ],
          "name": "stdout"
        },
        {
          "output_type": "stream",
          "text": [
            "/usr/local/lib/python3.6/dist-packages/IPython/core/magics/pylab.py:161: UserWarning: pylab import has clobbered these variables: ['plt']\n",
            "`%matplotlib` prevents importing * from pylab and numpy\n",
            "  \"\\n`%matplotlib` prevents importing * from pylab and numpy\"\n"
          ],
          "name": "stderr"
        },
        {
          "output_type": "display_data",
          "data": {
            "image/png": "[encoded data removed]",
            "text/plain": [
              "<Figure size 432x288 with 1 Axes>"
            ]
          },
          "metadata": {
            "tags": [],
            "needs_background": "light"
          }
        }
      ]
    }
  ]
}