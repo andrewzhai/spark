{
  "nbformat": 4,
  "nbformat_minor": 0,
  "metadata": {
    "colab": {
      "name": "CoverType_student_2.ipynb",
      "provenance": [],
      "collapsed_sections": [],
      "authorship_tag": "ABX9TyMffd7311fmG5J3912ZoRwi",
      "include_colab_link": true
    },
    "kernelspec": {
      "name": "python3",
      "display_name": "Python 3"
    }
  },
  "cells": [
    {
      "cell_type": "markdown",
      "metadata": {
        "id": "view-in-github",
        "colab_type": "text"
      },
      "source": [
        "<a href=\"https://colab.research.google.com/github/gzc/spark/blob/main/CoverType_student_2.ipynb\" target=\"_parent\"><img src=\"https://colab.research.google.com/assets/colab-badge.svg\" alt=\"Open In Colab\"/></a>"
      ]
    },
    {
      "cell_type": "code",
      "metadata": {
        "id": "viSgkOXyRRYK"
      },
      "source": [
        "!apt-get install openjdk-8-jdk-headless -qq > /dev/null\n",
        "!wget -q https://www-us.apache.org/dist/spark/spark-2.4.7/spark-2.4.7-bin-hadoop2.7.tgz  \n",
        "!tar xf /content/spark-2.4.7-bin-hadoop2.7.tgz\n",
        "!pip install -q findspark"
      ],
      "execution_count": null,
      "outputs": []
    },
    {
      "cell_type": "code",
      "metadata": {
        "id": "CfgdQ6_YSPAl"
      },
      "source": [
        "import os\n",
        "os.environ[\"JAVA_HOME\"] = \"/usr/lib/jvm/java-8-openjdk-amd64\"\n",
        "os.environ[\"SPARK_HOME\"] = \"/content/spark-2.4.7-bin-hadoop2.7\""
      ],
      "execution_count": null,
      "outputs": []
    },
    {
      "cell_type": "code",
      "metadata": {
        "id": "b8fIRvM8SRWw"
      },
      "source": [
        "import findspark\n",
        "findspark.init()\n",
        "from pyspark.mllib.linalg import Vectors\n",
        "from pyspark.mllib.regression import LabeledPoint\n",
        "\n",
        "from pyspark.mllib.tree import GradientBoostedTrees, GradientBoostedTreesModel, RandomForest\n",
        "from pyspark.mllib.util import MLUtils"
      ],
      "execution_count": null,
      "outputs": []
    },
    {
      "cell_type": "markdown",
      "metadata": {
        "id": "L_lRLA27TGsW"
      },
      "source": [
        "# Cover Type\n",
        "Classify geographical locations according to their predicted tree cover:\n",
        "\n",
        "* URL: [http://archive.ics.uci.edu/ml/datasets/Covertype](http://archive.ics.uci.edu/ml/datasets/Covertype)\n",
        "* Abstract: Forest CoverType dataset\n",
        "* Data Set Description: [http://archive.ics.uci.edu/ml/machine-learning-databases/covtype/covtype.info](http://archive.ics.uci.edu/ml/machine-learning-databases/covtype/covtype.info)"
      ]
    },
    {
      "cell_type": "code",
      "metadata": {
        "colab": {
          "base_uri": "https://localhost:8080/"
        },
        "id": "PzbzuTv5auUE",
        "outputId": "2524156e-6839-44be-db99-83450ae3316a"
      },
      "source": [
        "#define a dictionary of cover types\n",
        "CoverTypes={1.0: 'Spruce/Fir',\n",
        "            2.0: 'Lodgepole Pine',\n",
        "            3.0: 'Ponderosa Pine',\n",
        "            4.0: 'Cottonwood/Willow',\n",
        "            5.0: 'Aspen',\n",
        "            6.0: 'Douglas-fir',\n",
        "            7.0: 'Krummholz' }\n",
        "print ('Tree Cover Types:')\n",
        "CoverTypes"
      ],
      "execution_count": null,
      "outputs": [
        {
          "output_type": "stream",
          "text": [
            "Tree Cover Types:\n"
          ],
          "name": "stdout"
        },
        {
          "output_type": "execute_result",
          "data": {
            "text/plain": [
              "{1.0: 'Spruce/Fir',\n",
              " 2.0: 'Lodgepole Pine',\n",
              " 3.0: 'Ponderosa Pine',\n",
              " 4.0: 'Cottonwood/Willow',\n",
              " 5.0: 'Aspen',\n",
              " 6.0: 'Douglas-fir',\n",
              " 7.0: 'Krummholz'}"
            ]
          },
          "metadata": {
            "tags": []
          },
          "execution_count": 4
        }
      ]
    },
    {
      "cell_type": "code",
      "metadata": {
        "colab": {
          "base_uri": "https://localhost:8080/"
        },
        "id": "v0tL9bSxazPz",
        "outputId": "a649b883-693c-42bf-d455-ff044f6f4aa4"
      },
      "source": [
        "# creating a directory called covtype, download and decompress covtype.data.gz into it\n",
        "\n",
        "from os.path import exists\n",
        "if not exists('covtype'):\n",
        "    print (\"creating directory covtype\")\n",
        "    !mkdir covtype\n",
        "%cd covtype\n",
        "if not exists('covtype.data'):\n",
        "    if not exists('covtype.data.gz'):\n",
        "        print ('downloading covtype.data.gz')\n",
        "        !curl -O http://archive.ics.uci.edu/ml/machine-learning-databases/covtype/covtype.data.gz\n",
        "    print ('decompressing covtype.data.gz')\n",
        "    !gunzip -f covtype.data.gz\n",
        "!ls -l\n",
        "%cd .."
      ],
      "execution_count": null,
      "outputs": [
        {
          "output_type": "stream",
          "text": [
            "creating directory covtype\n",
            "/content/covtype\n",
            "downloading covtype.data.gz\n",
            "  % Total    % Received % Xferd  Average Speed   Time    Time     Time  Current\n",
            "                                 Dload  Upload   Total   Spent    Left  Speed\n",
            "100 10.7M  100 10.7M    0     0   9.9M      0  0:00:01  0:00:01 --:--:--  9.9M\n",
            "decompressing covtype.data.gz\n",
            "total 73408\n",
            "-rw-r--r-- 1 root root 75169317 Dec  6 06:10 covtype.data\n",
            "/content\n"
          ],
          "name": "stdout"
        }
      ]
    },
    {
      "cell_type": "code",
      "metadata": {
        "id": "gcFIvbD3a9XO"
      },
      "source": [
        "# Define the feature names\n",
        "cols_txt=\"\"\"\n",
        "Elevation, Aspect, Slope, Horizontal_Distance_To_Hydrology,\n",
        "Vertical_Distance_To_Hydrology, Horizontal_Distance_To_Roadways,\n",
        "Hillshade_9am, Hillshade_Noon, Hillshade_3pm,\n",
        "Horizontal_Distance_To_Fire_Points, Wilderness_Area (4 binarycolumns), \n",
        "Soil_Type (40 binary columns), Cover_Type\n",
        "\"\"\""
      ],
      "execution_count": null,
      "outputs": []
    },
    {
      "cell_type": "code",
      "metadata": {
        "colab": {
          "base_uri": "https://localhost:8080/"
        },
        "id": "_Vg6sGv2a_pm",
        "outputId": "5bf881a7-6b69-43af-effb-a6995b356ab3"
      },
      "source": [
        "# Break up features that are made out of several binary features.\n",
        "# from string import split,strip\n",
        "cols=[a.strip() for a in cols_txt.split(',')]\n",
        "colDict={a:[a] for a in cols}\n",
        "colDict['Soil_Type (40 binary columns)'] = ['ST_'+str(i) for i in range(40)]\n",
        "colDict['Wilderness_Area (4 binarycolumns)'] = ['WA_'+str(i) for i in range(4)]\n",
        "Columns=[]\n",
        "for item in cols:\n",
        "    Columns=Columns+colDict[item]\n",
        "print (Columns)"
      ],
      "execution_count": null,
      "outputs": [
        {
          "output_type": "stream",
          "text": [
            "['Elevation', 'Aspect', 'Slope', 'Horizontal_Distance_To_Hydrology', 'Vertical_Distance_To_Hydrology', 'Horizontal_Distance_To_Roadways', 'Hillshade_9am', 'Hillshade_Noon', 'Hillshade_3pm', 'Horizontal_Distance_To_Fire_Points', 'WA_0', 'WA_1', 'WA_2', 'WA_3', 'ST_0', 'ST_1', 'ST_2', 'ST_3', 'ST_4', 'ST_5', 'ST_6', 'ST_7', 'ST_8', 'ST_9', 'ST_10', 'ST_11', 'ST_12', 'ST_13', 'ST_14', 'ST_15', 'ST_16', 'ST_17', 'ST_18', 'ST_19', 'ST_20', 'ST_21', 'ST_22', 'ST_23', 'ST_24', 'ST_25', 'ST_26', 'ST_27', 'ST_28', 'ST_29', 'ST_30', 'ST_31', 'ST_32', 'ST_33', 'ST_34', 'ST_35', 'ST_36', 'ST_37', 'ST_38', 'ST_39', 'Cover_Type']\n"
          ],
          "name": "stdout"
        }
      ]
    },
    {
      "cell_type": "code",
      "metadata": {
        "colab": {
          "base_uri": "https://localhost:8080/"
        },
        "id": "9NR6njvLbajS",
        "outputId": "43b25f78-d97e-40b8-eb0a-e1bd86f5172f"
      },
      "source": [
        "# Have a look at the first two lines of the data file\n",
        "!head -2 covtype/covtype.data"
      ],
      "execution_count": null,
      "outputs": [
        {
          "output_type": "stream",
          "text": [
            "2596,51,3,258,0,510,221,232,148,6279,1,0,0,0,0,0,0,0,0,0,0,0,0,0,0,0,0,0,0,0,0,0,0,0,0,0,0,0,0,0,0,0,1,0,0,0,0,0,0,0,0,0,0,0,5\n",
            "2590,56,2,212,-6,390,220,235,151,6225,1,0,0,0,0,0,0,0,0,0,0,0,0,0,0,0,0,0,0,0,0,0,0,0,0,0,0,0,0,0,0,0,1,0,0,0,0,0,0,0,0,0,0,0,5\n"
          ],
          "name": "stdout"
        }
      ]
    },
    {
      "cell_type": "code",
      "metadata": {
        "colab": {
          "base_uri": "https://localhost:8080/",
          "height": 37
        },
        "id": "foC-yUKIbdmJ",
        "outputId": "a159a920-dee6-479f-da8a-fc23ac50cd62"
      },
      "source": [
        "# Read the file into an RDD\n",
        "# If doing this on a real cluster, you need the file to be available on all nodes, ideally in HDFS.\n",
        "path='covtype/covtype.data'\n",
        "from pyspark import SparkContext\n",
        "sc = SparkContext()\n",
        "inputRDD=sc.textFile(path)\n",
        "inputRDD.first()"
      ],
      "execution_count": null,
      "outputs": [
        {
          "output_type": "execute_result",
          "data": {
            "application/vnd.google.colaboratory.intrinsic+json": {
              "type": "string"
            },
            "text/plain": [
              "'2596,51,3,258,0,510,221,232,148,6279,1,0,0,0,0,0,0,0,0,0,0,0,0,0,0,0,0,0,0,0,0,0,0,0,0,0,0,0,0,0,0,0,1,0,0,0,0,0,0,0,0,0,0,0,5'"
            ]
          },
          "metadata": {
            "tags": []
          },
          "execution_count": 9
        }
      ]
    },
    {
      "cell_type": "code",
      "metadata": {
        "colab": {
          "base_uri": "https://localhost:8080/"
        },
        "id": "WdMkXWlSblpd",
        "outputId": "5ceffde0-b4d4-419e-a5c8-f3ab38dd81f1"
      },
      "source": [
        "# Transform the text RDD into an RDD of LabeledPoints\n",
        "Data=inputRDD.map(lambda line: [float(x.strip()) for x in line.split(',')])\\\n",
        "     .map(lambda alist: LabeledPoint(alist[-1], alist[:-1]))\n",
        "Data.first()"
      ],
      "execution_count": null,
      "outputs": [
        {
          "output_type": "execute_result",
          "data": {
            "text/plain": [
              "LabeledPoint(5.0, [2596.0,51.0,3.0,258.0,0.0,510.0,221.0,232.0,148.0,6279.0,1.0,0.0,0.0,0.0,0.0,0.0,0.0,0.0,0.0,0.0,0.0,0.0,0.0,0.0,0.0,0.0,0.0,0.0,0.0,0.0,0.0,0.0,0.0,0.0,0.0,0.0,0.0,0.0,0.0,0.0,0.0,0.0,1.0,0.0,0.0,0.0,0.0,0.0,0.0,0.0,0.0,0.0,0.0,0.0])"
            ]
          },
          "metadata": {
            "tags": []
          },
          "execution_count": 10
        }
      ]
    },
    {
      "cell_type": "code",
      "metadata": {
        "colab": {
          "base_uri": "https://localhost:8080/"
        },
        "id": "uruoNdn8bzRj",
        "outputId": "1023c514-d22f-49ac-fff7-b7237fbd56b5"
      },
      "source": [
        "# count the number of examples of each type\n",
        "total=Data.cache().count()\n",
        "print ('total data size=',total)\n",
        "counts=Data.map(lambda x: (x.label, 1))\\\n",
        "        .reduceByKey(lambda x,y: x+y)\\\n",
        "        .collect()\n",
        "\n",
        "counts.sort(key=lambda x:x[1],reverse=True)\n",
        "print ('              type (label):   percent of total')\n",
        "print ('---------------------------------------------------------')\n",
        "print ('\\n'.join(['%20s (%3.1f):\\t%4.2f'%(CoverTypes[a[0]],a[0],100.0*a[1]/float(total)) for a in counts]))"
      ],
      "execution_count": null,
      "outputs": [
        {
          "output_type": "stream",
          "text": [
            "total data size= 581012\n",
            "              type (label):   percent of total\n",
            "---------------------------------------------------------\n",
            "      Lodgepole Pine (2.0):\t48.76\n",
            "          Spruce/Fir (1.0):\t36.46\n",
            "      Ponderosa Pine (3.0):\t6.15\n",
            "           Krummholz (7.0):\t3.53\n",
            "         Douglas-fir (6.0):\t2.99\n",
            "               Aspen (5.0):\t1.63\n",
            "   Cottonwood/Willow (4.0):\t0.47\n"
          ],
          "name": "stdout"
        }
      ]
    },
    {
      "cell_type": "markdown",
      "metadata": {
        "id": "e2oR7F1UcD4f"
      },
      "source": [
        "# Making the problem binary\n",
        "\n",
        "The implementation of BoostedGradientTrees in MLLib supports only binary problems. the CovTYpe problem has 7 classes. To make the problem binary we choose the Lodgepole Pine (label = 2.0). We therefor transform the dataset to a new dataset where the label is 1.0 is the class is Lodgepole Pine and is 0.0 otherwise."
      ]
    },
    {
      "cell_type": "code",
      "metadata": {
        "id": "RN7dyIN3cJUh"
      },
      "source": [
        "Label=2.0\n",
        "Data=inputRDD.map(lambda line: [float(x) for x in line.split(',')])\\\n",
        "    .map(lambda V:LabeledPoint(1.0 if V[-1] == Label else 0.0, V[:-1]))"
      ],
      "execution_count": null,
      "outputs": []
    },
    {
      "cell_type": "markdown",
      "metadata": {
        "id": "oEK90O4DcL6_"
      },
      "source": [
        "# Reducing data size\n",
        "In order to see the effects of overfitting more clearly, we reduce the size of the data by a factor of 10"
      ]
    },
    {
      "cell_type": "code",
      "metadata": {
        "colab": {
          "base_uri": "https://localhost:8080/"
        },
        "id": "eVqsHtnBcSpG",
        "outputId": "46be146c-2168-4951-f26b-5d9b298b3041"
      },
      "source": [
        "Data1=Data.sample(False,0.1).cache()\n",
        "(trainingData,testData)=Data1.randomSplit([0.7,0.3])\n",
        "\n",
        "print ('Sizes: Data1=%d, trainingData=%d, testData=%d'%(Data1.count(),trainingData.cache().count(),testData.cache().count()))"
      ],
      "execution_count": null,
      "outputs": [
        {
          "output_type": "stream",
          "text": [
            "Sizes: Data1=58432, trainingData=40874, testData=17558\n"
          ],
          "name": "stdout"
        }
      ]
    },
    {
      "cell_type": "code",
      "metadata": {
        "colab": {
          "base_uri": "https://localhost:8080/"
        },
        "id": "XHElD0Kncc3j",
        "outputId": "45c698df-8132-4fe4-86c4-a9af6643eae0"
      },
      "source": [
        "counts=testData.map(lambda lp:(lp.label,1)).reduceByKey(lambda x,y:x+y).collect()\n",
        "counts.sort(key=lambda x:x[1],reverse=True)\n",
        "counts"
      ],
      "execution_count": null,
      "outputs": [
        {
          "output_type": "execute_result",
          "data": {
            "text/plain": [
              "[(0.0, 9056), (1.0, 8502)]"
            ]
          },
          "metadata": {
            "tags": []
          },
          "execution_count": 14
        }
      ]
    },
    {
      "cell_type": "markdown",
      "metadata": {
        "id": "MRFbKLqIcmIl"
      },
      "source": [
        "# Gradient Boosted Trees\n",
        "\n",
        "* Following [this example](http://spark.apache.org/docs/latest/mllib-ensembles.html#gradient-boosted-trees-gbts) from the mllib documentation\n",
        "* [pyspark.mllib.tree.GradientBoostedTrees documentation](http://spark.apache.org/docs/latest/api/python/pyspark.mllib.html#pyspark.mllib.tree.GradientBoostedTrees)\n",
        "\n",
        "##Main classes and methods\n",
        "* GradientBoostedTrees is the class that implements the learning trainClassifier,\n",
        "  * It's main method is trainClassifier(trainingData) which takes as input a training set and generates an instance of GradientBoostedTreesModel\n",
        "  * The main parameter from train Classifier are:\n",
        "    * data – Training dataset: RDD of LabeledPoint. Labels should take values {0, 1}.\n",
        "    * categoricalFeaturesInfo – Map storing arity of categorical features. E.g., an entry (n -> k) indicates that feature n is categorical with k categories indexed from 0: {0, 1, ..., k-1}.\n",
        "    * loss – Loss function used for minimization during gradient boosting. Supported: {“logLoss” (default), “leastSquaresError”, “leastAbsoluteError”}.\n",
        "    * numIterations – Number of iterations of boosting. (default: 100)\n",
        "    * learningRate – Learning rate for shrinking the contribution of each estimator. The learning rate should be between in the interval (0, 1]. (default: 0.1)\n",
        "    * maxDepth – Maximum depth of the tree. E.g., depth 0 means 1 leaf node; depth 1 means 1 internal node + 2 leaf nodes. (default: 3)\n",
        "    * maxBins – maximum number of bins used for splitting features (default: 32) DecisionTree requires maxBins >= max categories\n",
        "* GradientBoostedTreesModel represents the output of the boosting process: a linear combination of classification trees. The methods supported by this class are:\n",
        "  * save(sc, path) : save the tree to a given filename, sc is the Spark Context.\n",
        "  * load(sc,path) : The counterpart to save - load classifier from file.\n",
        "  * predict(X) : predict on a single datapoint (the .features field of a LabeledPont) or an RDD of datapoints.\n",
        "  * toDebugString() : print the classifier in a human readable format."
      ]
    },
    {
      "cell_type": "code",
      "metadata": {
        "colab": {
          "base_uri": "https://localhost:8080/"
        },
        "id": "WEN1AD-_dYig",
        "outputId": "fad85228-f47d-4045-a35a-ba87e2117e9d"
      },
      "source": [
        "from time import time\n",
        "errors={}\n",
        "for depth in [1,3,6,10]:\n",
        "    start=time()\n",
        "    model=GradientBoostedTrees.trainClassifier(trainingData, categoricalFeaturesInfo={}, numIterations=10, maxDepth=depth)\n",
        "    #print model.toDebugString()\n",
        "    errors[depth]={}\n",
        "    dataSets={'train':trainingData,'test':testData}\n",
        "    for name in dataSets.keys():  # Calculate errors on train and test sets\n",
        "        data=dataSets[name]\n",
        "        Predicted=model.predict(data.map(lambda x: x.features))\n",
        "        LabelsAndPredictions=data.map(lambda x: x.label).zip(Predicted)\n",
        "        Err = LabelsAndPredictions.filter(lambda x : x[0] != x[1]).count()/float(data.count())\n",
        "        errors[depth][name]=Err\n",
        "    print (depth,errors[depth],int(time()-start),'seconds')\n",
        "print (errors)"
      ],
      "execution_count": null,
      "outputs": [
        {
          "output_type": "stream",
          "text": [
            "1 {'train': 0.2763370357684592, 'test': 0.2736074723772639} 15 seconds\n",
            "3 {'train': 0.24604883299897246, 'test': 0.24353571021756465} 9 seconds\n",
            "6 {'train': 0.21047609727455105, 'test': 0.21448912176785512} 10 seconds\n",
            "10 {'train': 0.13756911484073006, 'test': 0.17171659642328282} 19 seconds\n",
            "{1: {'train': 0.2763370357684592, 'test': 0.2736074723772639}, 3: {'train': 0.24604883299897246, 'test': 0.24353571021756465}, 6: {'train': 0.21047609727455105, 'test': 0.21448912176785512}, 10: {'train': 0.13756911484073006, 'test': 0.17171659642328282}}\n"
          ],
          "name": "stdout"
        }
      ]
    },
    {
      "cell_type": "code",
      "metadata": {
        "id": "l-dKbtA2fj5M"
      },
      "source": [
        "B10 = errors"
      ],
      "execution_count": null,
      "outputs": []
    },
    {
      "cell_type": "code",
      "metadata": {
        "colab": {
          "base_uri": "https://localhost:8080/",
          "height": 333
        },
        "id": "qZzYMIHmdxPJ",
        "outputId": "28f5f8b2-2c8c-4599-e38b-c06da242c2f2"
      },
      "source": [
        "# Plot Train/test accuracy vs Depth of trees graph\n",
        "%pylab inline\n",
        "import matplotlib.pylab as plt\n",
        "\n",
        "lists = sorted(B10.items()) # sorted by key, return a list of tuples\n",
        "x, y = zip(*lists) # unpack a list of pairs into two tuples\n",
        "list1 = []\n",
        "list2 = []\n",
        "for ele in y:\n",
        "  list1.append(ele['train'])\n",
        "  list2.append(ele['test'])\n",
        "\n",
        "plt.plot(x, list1, '-')\n",
        "plt.plot(x, list2, '--')\n",
        "plt.show()"
      ],
      "execution_count": null,
      "outputs": [
        {
          "output_type": "stream",
          "text": [
            "Populating the interactive namespace from numpy and matplotlib\n"
          ],
          "name": "stdout"
        },
        {
          "output_type": "stream",
          "text": [
            "/usr/local/lib/python3.6/dist-packages/IPython/core/magics/pylab.py:161: UserWarning: pylab import has clobbered these variables: ['time']\n",
            "`%matplotlib` prevents importing * from pylab and numpy\n",
            "  \"\\n`%matplotlib` prevents importing * from pylab and numpy\"\n"
          ],
          "name": "stderr"
        },
        {
          "output_type": "display_data",
          "data": {
            "image/png": "[encoded data removed]",
            "text/plain": [
              "<Figure size 432x288 with 1 Axes>"
            ]
          },
          "metadata": {
            "tags": [],
            "needs_background": "light"
          }
        }
      ]
    },
    {
      "cell_type": "markdown",
      "metadata": {
        "id": "vF2oPd91rehg"
      },
      "source": [
        "\n",
        "#Random Forests\n",
        "\n",
        "* Following [this example](http://spark.apache.org/docs/latest/mllib-ensembles.html#classification) from the mllib documentation\n",
        "* [pyspark.mllib.trees.RandomForest documentation](http://spark.apache.org/docs/latest/api/python/pyspark.mllib.html#pyspark.mllib.tree.RandomForest)\n",
        "\n",
        "**trainClassifier**(data, numClasses, categoricalFeaturesInfo, numTrees, featureSubsetStrategy='auto', impurity='gini', maxDepth=4, maxBins=32, seed=None)\n",
        "\n",
        "Method to train a decision tree model for binary or multiclass classification.\n",
        "\n",
        "**Parameters**:\n",
        "* *data* – Training dataset: RDD of LabeledPoint. Labels should take values {0, 1, ..., numClasses-1}.\n",
        "* *numClasses* – number of classes for classification.\n",
        "* *categoricalFeaturesInfo* – Map storing arity of categorical features. E.g., an entry (n -> k) indicates that feature n is categorical with k categories indexed from 0: {0, 1, ..., k-1}.\n",
        "* *numTrees* – Number of trees in the random forest.\n",
        "* *featureSubsetStrategy* – Number of features to consider for splits at each node. Supported: “auto” (default), “all”, “sqrt”, “log2”, “onethird”. If “auto” is set, this parameter is set based on numTrees: if numTrees == 1, set to “all”; if numTrees > 1 (forest) set to “sqrt”.\n",
        "* *impurity* – Criterion used for information gain calculation. Supported values: “gini” (recommended) or “entropy”.\n",
        "* *maxDepth* – Maximum depth of the tree. E.g., depth 0 means 1 leaf node; depth 1 means 1 internal node + 2 leaf nodes. (default: 4)\n",
        "* *maxBins* – maximum number of bins used for splitting features (default: 32)\n",
        "* *seed* – Random seed for bootstrapping and choosing feature subsets.\n",
        "\n",
        "**Returns**:\n",
        "RandomForestModel that can be used for prediction"
      ]
    },
    {
      "cell_type": "code",
      "metadata": {
        "colab": {
          "base_uri": "https://localhost:8080/"
        },
        "id": "7SbgBj4qsYbv",
        "outputId": "d59f8676-b92d-4213-ea14-61d54a8f4ae9"
      },
      "source": [
        "from time import time\n",
        "errors={}\n",
        "for depth in [1,3,6,10,15,20]:\n",
        "    start=time()\n",
        "    model = RandomForest.trainClassifier(trainingData, numClasses=2, categoricalFeaturesInfo={}, numTrees=10, maxDepth=depth)\n",
        "    #print model.toDebugString()\n",
        "    errors[depth]={}\n",
        "    dataSets={'train':trainingData,'test':testData}\n",
        "    for name in dataSets.keys():  # Calculate errors on train and test sets\n",
        "        # TODO: Follow example in Gradient Boosted Trees to get errors for Random Forest\n",
        "    print (depth,errors[depth],int(time()-start),'seconds')\n",
        "print (errors)"
      ],
      "execution_count": null,
      "outputs": [
        {
          "output_type": "stream",
          "text": [
            "1 {'train': 0.43455497382198954, 'test': 0.4345597448456544} 4 seconds\n",
            "3 {'train': 0.33994715467045067, 'test': 0.3424080191365759} 2 seconds\n",
            "6 {'train': 0.2730097372412781, 'test': 0.2709875840072901} 3 seconds\n",
            "10 {'train': 0.21654352400058718, 'test': 0.22274746554277253} 4 seconds\n",
            "15 {'train': 0.18733180016636491, 'test': 0.20030755211299692} 7 seconds\n",
            "20 {'train': 0.12044331359788618, 'test': 0.16556555416334434} 12 seconds\n",
            "{1: {'train': 0.43455497382198954, 'test': 0.4345597448456544}, 3: {'train': 0.33994715467045067, 'test': 0.3424080191365759}, 6: {'train': 0.2730097372412781, 'test': 0.2709875840072901}, 10: {'train': 0.21654352400058718, 'test': 0.22274746554277253}, 15: {'train': 0.18733180016636491, 'test': 0.20030755211299692}, 20: {'train': 0.12044331359788618, 'test': 0.16556555416334434}}\n"
          ],
          "name": "stdout"
        }
      ]
    },
    {
      "cell_type": "code",
      "metadata": {
        "colab": {
          "base_uri": "https://localhost:8080/",
          "height": 337
        },
        "id": "b1GLy2OQs0zP",
        "outputId": "691d260b-db66-41ed-c92e-501967e600dd"
      },
      "source": [
        "RF10_trees = errors\n",
        "\n",
        "# Plot Train/test accuracy vs Depth of trees graph\n",
        "%pylab inline\n",
        "import matplotlib.pylab as plt\n",
        "\n",
        "lists = sorted(RF10_trees.items()) # sorted by key, return a list of tuples\n",
        "x, y = zip(*lists) # unpack a list of pairs into two tuples\n",
        "list1 = []\n",
        "list2 = []\n",
        "for ele in y:\n",
        "  list1.append(ele['train'])\n",
        "  list2.append(ele['test'])\n",
        "\n",
        "plt.plot(x, list1, '-')\n",
        "plt.plot(x, list2, '--')\n",
        "plt.show()"
      ],
      "execution_count": null,
      "outputs": [
        {
          "output_type": "stream",
          "text": [
            "Populating the interactive namespace from numpy and matplotlib\n"
          ],
          "name": "stdout"
        },
        {
          "output_type": "stream",
          "text": [
            "/usr/local/lib/python3.6/dist-packages/IPython/core/magics/pylab.py:161: UserWarning: pylab import has clobbered these variables: ['plt', 'time']\n",
            "`%matplotlib` prevents importing * from pylab and numpy\n",
            "  \"\\n`%matplotlib` prevents importing * from pylab and numpy\"\n"
          ],
          "name": "stderr"
        },
        {
          "output_type": "display_data",
          "data": {
            "image/png": "[encoded data removed]",
            "text/plain": [
              "<Figure size 432x288 with 1 Axes>"
            ]
          },
          "metadata": {
            "tags": [],
            "needs_background": "light"
          }
        }
      ]
    },
    {
      "cell_type": "markdown",
      "metadata": {
        "id": "I6EC4QZrtGUb"
      },
      "source": [
        "#Now plot B10 and RF_10trees performance curves in the same graph"
      ]
    },
    {
      "cell_type": "code",
      "metadata": {
        "colab": {
          "base_uri": "https://localhost:8080/",
          "height": 337
        },
        "id": "ASdl_f8YtJz1",
        "outputId": "8fe9cc31-fe40-4bf0-a266-5865ff49c4fa"
      },
      "source": [
        "# Plot Train/test accuracy vs Depth of trees graph\n",
        "%pylab inline\n",
        "import matplotlib.pylab as plt\n",
        "\n",
        "# TODO: plot B10 and RF_10trees performance curves in the same graph"
      ],
      "execution_count": null,
      "outputs": [
        {
          "output_type": "stream",
          "text": [
            "Populating the interactive namespace from numpy and matplotlib\n"
          ],
          "name": "stdout"
        },
        {
          "output_type": "stream",
          "text": [
            "/usr/local/lib/python3.6/dist-packages/IPython/core/magics/pylab.py:161: UserWarning: pylab import has clobbered these variables: ['plt']\n",
            "`%matplotlib` prevents importing * from pylab and numpy\n",
            "  \"\\n`%matplotlib` prevents importing * from pylab and numpy\"\n"
          ],
          "name": "stderr"
        },
        {
          "output_type": "display_data",
          "data": {
            "image/png": "[encoded data removed]",
            "text/plain": [
              "<Figure size 432x288 with 1 Axes>"
            ]
          },
          "metadata": {
            "tags": [],
            "needs_background": "light"
          }
        }
      ]
    }
  ]
}